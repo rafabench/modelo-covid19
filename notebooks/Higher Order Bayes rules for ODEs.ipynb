{
 "cells": [
  {
   "cell_type": "markdown",
   "metadata": {
    "toc": true
   },
   "source": [
    "<h1>Table of Contents<span class=\"tocSkip\"></span></h1>\n",
    "<div class=\"toc\"><ul class=\"toc-item\"><li><span><a href=\"#Download-das-bibliotecas\" data-toc-modified-id=\"Download-das-bibliotecas-1\"><span class=\"toc-item-num\">1&nbsp;&nbsp;</span>Download das bibliotecas</a></span></li><li><span><a href=\"#Construção-do-Modelo\" data-toc-modified-id=\"Construção-do-Modelo-2\"><span class=\"toc-item-num\">2&nbsp;&nbsp;</span>Construção do Modelo</a></span></li><li><span><a href=\"#Otimização-dos-Parâmetros\" data-toc-modified-id=\"Otimização-dos-Parâmetros-3\"><span class=\"toc-item-num\">3&nbsp;&nbsp;</span>Otimização dos Parâmetros</a></span></li><li><span><a href=\"#Variação-dos-parametros\" data-toc-modified-id=\"Variação-dos-parametros-4\"><span class=\"toc-item-num\">4&nbsp;&nbsp;</span>Variação dos parametros</a></span></li></ul></div>"
   ]
  },
  {
   "cell_type": "markdown",
   "metadata": {},
   "source": [
    "## Download das bibliotecas"
   ]
  },
  {
   "cell_type": "code",
   "execution_count": 1,
   "metadata": {
    "ExecuteTime": {
     "end_time": "2020-05-10T22:51:30.796000-03:00",
     "start_time": "2020-05-11T01:51:29.003Z"
    }
   },
   "outputs": [
    {
     "name": "stdout",
     "output_type": "stream",
     "text": [
      "\u001b[32m\u001b[1mActivating\u001b[22m\u001b[39m environment at `~/Documents/modelo-covid19/Project.toml`\n",
      "\u001b[32m\u001b[1m    Status\u001b[22m\u001b[39m `~/Documents/modelo-covid19/Project.toml`\n",
      " \u001b[90m [864edb3b]\u001b[39m\u001b[37m DataStructures v0.17.15\u001b[39m\n",
      " \u001b[90m [aae7a2af]\u001b[39m\u001b[37m DiffEqFlux v1.9.0\u001b[39m\n",
      " \u001b[90m [1130ab10]\u001b[39m\u001b[37m DiffEqParamEstim v1.14.0\u001b[39m\n",
      " \u001b[90m [41bf760c]\u001b[39m\u001b[37m DiffEqSensitivity v6.13.0\u001b[39m\n",
      " \u001b[90m [ef61062a]\u001b[39m\u001b[37m DiffEqUncertainty v1.4.1\u001b[39m\n",
      " \u001b[90m [0c46a032]\u001b[39m\u001b[37m DifferentialEquations v6.13.0\u001b[39m\n",
      " \u001b[90m [31c24e10]\u001b[39m\u001b[37m Distributions v0.21.12\u001b[39m\n",
      " \u001b[90m [587475ba]\u001b[39m\u001b[37m Flux v0.10.4\u001b[39m\n",
      " \u001b[90m [1b10255b]\u001b[39m\u001b[37m GlobalSensitivityAnalysis v0.0.10\u001b[39m\n",
      " \u001b[90m [429524aa]\u001b[39m\u001b[37m Optim v0.20.6\u001b[39m\n",
      " \u001b[90m [1dea7af3]\u001b[39m\u001b[37m OrdinaryDiffEq v5.35.5\u001b[39m\n",
      " \u001b[90m [65888b18]\u001b[39m\u001b[37m ParameterizedFunctions v5.3.0\u001b[39m\n",
      " \u001b[90m [438e738f]\u001b[39m\u001b[37m PyCall v1.91.4\u001b[39m\n",
      " \u001b[90m [d330b81b]\u001b[39m\u001b[37m PyPlot v2.9.0\u001b[39m\n",
      " \u001b[90m [8a4e6c94]\u001b[39m\u001b[37m QuasiMonteCarlo v0.2.0\u001b[39m\n",
      " \u001b[90m [e88e6eb3]\u001b[39m\u001b[37m Zygote v0.4.19\u001b[39m\n"
     ]
    }
   ],
   "source": [
    "using Pkg\n",
    "Pkg.activate(\"..\")\n",
    "Pkg.status()"
   ]
  },
  {
   "cell_type": "code",
   "execution_count": 2,
   "metadata": {
    "ExecuteTime": {
     "end_time": "2020-05-10T22:51:31.009000-03:00",
     "start_time": "2020-05-11T01:51:29.008Z"
    }
   },
   "outputs": [],
   "source": [
    "include(\"../src/dados.jl\");"
   ]
  },
  {
   "cell_type": "code",
   "execution_count": null,
   "metadata": {
    "ExecuteTime": {
     "start_time": "2020-05-11T01:51:29.011Z"
    },
    "scrolled": true
   },
   "outputs": [],
   "source": [
    "include(\"../src/models.jl\");"
   ]
  },
  {
   "cell_type": "code",
   "execution_count": null,
   "metadata": {
    "ExecuteTime": {
     "start_time": "2020-05-11T01:51:29.014Z"
    },
    "scrolled": true
   },
   "outputs": [],
   "source": [
    "include(\"../src/graphs.jl\");"
   ]
  },
  {
   "cell_type": "code",
   "execution_count": null,
   "metadata": {
    "ExecuteTime": {
     "start_time": "2020-05-11T01:51:29.017Z"
    },
    "scrolled": true
   },
   "outputs": [],
   "source": [
    "include(\"../src/parametrization.jl\");"
   ]
  },
  {
   "cell_type": "code",
   "execution_count": null,
   "metadata": {
    "ExecuteTime": {
     "start_time": "2020-05-11T01:51:29.020Z"
    },
    "scrolled": true
   },
   "outputs": [],
   "source": [
    "include(\"../src/optimization.jl\");"
   ]
  },
  {
   "cell_type": "markdown",
   "metadata": {},
   "source": [
    "## Construção do Modelo"
   ]
  },
  {
   "cell_type": "code",
   "execution_count": null,
   "metadata": {
    "ExecuteTime": {
     "start_time": "2020-05-11T01:51:29.023Z"
    }
   },
   "outputs": [],
   "source": [
    "Ts = 0.0:1.0:float(n_pts)\n",
    "sol = model(params_rio_base, CI_Rio, Ts);"
   ]
  },
  {
   "cell_type": "code",
   "execution_count": null,
   "metadata": {
    "ExecuteTime": {
     "start_time": "2020-05-11T01:51:29.026Z"
    }
   },
   "outputs": [],
   "source": [
    "fig, axs = PyPlot.subplots(ncols=2, figsize=(13,4))\n",
    "datas = [Rio_acc_d,Rio_acc_m]\n",
    "series = [sol[9,:],sol[10,:]]\n",
    "axs[1].set_title(\"Casos diagnosticados, acumulados\")\n",
    "axs[2].set_title(\"Óbitos acumulados\")\n",
    "for (ax,serie,data) in zip(axs,series,datas)\n",
    "    graph_py.plot_accum(serie, data,real_data = true, ax = ax,blur = 1.0, cor_serie = \"C0\", cor_dados = \"C1x-\")\n",
    "end"
   ]
  },
  {
   "cell_type": "code",
   "execution_count": null,
   "metadata": {
    "ExecuteTime": {
     "start_time": "2020-05-11T01:51:29.030Z"
    }
   },
   "outputs": [],
   "source": [
    "fig, axs = PyPlot.subplots(ncols=2, figsize=(13,4))\n",
    "datas = [diagn_Rio,obitos_Rio]\n",
    "series = [sol[9,:],sol[10,:]]\n",
    "axs[1].set_title(\"Novos casos diagnosticados\")\n",
    "axs[2].set_title(\"Novos óbitos\")\n",
    "for (ax,serie,data) in zip(axs,series,datas)\n",
    "    graph_py.plot_daily(serie, data,real_data = true, ax = ax, cor_serie = \"C0\", cor_dados = \"C1x-\")\n",
    "end"
   ]
  },
  {
   "cell_type": "markdown",
   "metadata": {},
   "source": [
    "## Otimização dos Parâmetros"
   ]
  },
  {
   "cell_type": "code",
   "execution_count": null,
   "metadata": {
    "ExecuteTime": {
     "start_time": "2020-05-11T01:51:29.033Z"
    }
   },
   "outputs": [],
   "source": [
    "pp_p_ci(p_start)"
   ]
  },
  {
   "cell_type": "code",
   "execution_count": null,
   "metadata": {
    "ExecuteTime": {
     "start_time": "2020-05-11T01:51:29.036Z"
    }
   },
   "outputs": [],
   "source": [
    "loss_obj(p_start)"
   ]
  },
  {
   "cell_type": "code",
   "execution_count": null,
   "metadata": {
    "ExecuteTime": {
     "start_time": "2020-05-11T01:51:29.038Z"
    },
    "scrolled": false
   },
   "outputs": [],
   "source": [
    "res = DiffEqFlux.sciml_train(loss_adjoint, p_start, Fminbox(LBFGS()),\n",
    "    lower_bounds=[0.0, 0.01, 0.4, 0.88, 0, 0.2, 2], upper_bounds=[1e-6, 0.2, 0.7, 0.94, 0.4, 0.6, 50])\n",
    "#    cb = cb)"
   ]
  },
  {
   "cell_type": "code",
   "execution_count": null,
   "metadata": {
    "ExecuteTime": {
     "start_time": "2020-05-11T01:51:29.040Z"
    },
    "scrolled": true
   },
   "outputs": [],
   "source": [
    "pp_p_ci(p_start)"
   ]
  },
  {
   "cell_type": "code",
   "execution_count": null,
   "metadata": {
    "ExecuteTime": {
     "start_time": "2020-05-11T01:51:29.043Z"
    }
   },
   "outputs": [],
   "source": [
    "pp_p_ci(res.minimizer)"
   ]
  },
  {
   "cell_type": "code",
   "execution_count": null,
   "metadata": {
    "ExecuteTime": {
     "start_time": "2020-05-11T01:51:29.045Z"
    }
   },
   "outputs": [],
   "source": [
    "Ts = 0.0:1.0:23\n",
    "CI_opt, p_opt = build_p_ci(res.minimizer)\n",
    "sol = model(p_opt, CI_opt, Ts);"
   ]
  },
  {
   "cell_type": "code",
   "execution_count": null,
   "metadata": {
    "ExecuteTime": {
     "start_time": "2020-05-11T01:51:29.047Z"
    }
   },
   "outputs": [],
   "source": [
    "fig, axs = PyPlot.subplots(ncols=2, figsize=(13,4))\n",
    "datas = [Rio_acc_d,Rio_acc_m]\n",
    "series = [sol[9,:],sol[10,:]]\n",
    "axs[1].set_title(\"Casos diagnosticados, acumulados\")\n",
    "axs[2].set_title(\"Óbitos acumulados\")\n",
    "for (ax,serie,data) in zip(axs,series,datas)\n",
    "    graph_py.plot_accum(serie, data,real_data = true, ax = ax,blur = 1.0, cor_serie = \"C0\", cor_dados = \"C1x-\")\n",
    "end"
   ]
  },
  {
   "cell_type": "code",
   "execution_count": null,
   "metadata": {
    "ExecuteTime": {
     "start_time": "2020-05-11T01:51:29.049Z"
    }
   },
   "outputs": [],
   "source": [
    "fig, axs = PyPlot.subplots(ncols=2, figsize=(13,4))\n",
    "datas = [diagn_Rio,obitos_Rio]\n",
    "series = [sol[9,:],sol[10,:]]\n",
    "axs[1].set_title(\"Novos casos diagnosticados\")\n",
    "axs[2].set_title(\"Novos óbitos\")\n",
    "for (ax,serie,data) in zip(axs,series,datas)\n",
    "    graph_py.plot_daily(serie, data,real_data = true, ax = ax, cor_serie = \"C0\", cor_dados = \"C1x-\")\n",
    "end"
   ]
  },
  {
   "cell_type": "code",
   "execution_count": null,
   "metadata": {
    "ExecuteTime": {
     "start_time": "2020-05-11T01:51:29.052Z"
    }
   },
   "outputs": [],
   "source": [
    "Ts = 0.0:1.0:200\n",
    "CI_opt, p_opt = build_p_ci(res.minimizer)\n",
    "sol = model(p_opt, CI_opt, Ts);\n",
    "fig, ax = PyPlot.subplots(ncols=1, figsize=(7,4))\n",
    "serie = Rt(sol,p_opt)\n",
    "ax.set_title(\"Taxa base de reprodução\")\n",
    "graph_py.plot_accum(serie, Rio_acc_d,real_data = false, label = L\"R_t\", ax = ax,blur = 1.0, eng_fmt = false)"
   ]
  },
  {
   "cell_type": "code",
   "execution_count": null,
   "metadata": {
    "ExecuteTime": {
     "start_time": "2020-05-11T01:51:29.054Z"
    },
    "scrolled": false
   },
   "outputs": [],
   "source": [
    "fig, ax = PyPlot.subplots(ncols=1, figsize=(7,4))\n",
    "series_subnot = [(sol[4,:].+sol[5,:])./(sol[6,:].+sol[7,:]),(sol[4,:])./(sol[6,:]),(sol[5,:])./(sol[7,:])]\n",
    "m_labels = [\"Total\", \"Assintomático\", \"Infectado\"]\n",
    "ax.set_title(\"Estimativa de subnotificação\")\n",
    "for (serie,label) in zip(series_subnot,m_labels)\n",
    "    ax.plot(serie, label = label)\n",
    "end\n",
    "ax.legend();"
   ]
  },
  {
   "cell_type": "markdown",
   "metadata": {},
   "source": [
    "## Variação dos parametros"
   ]
  },
  {
   "cell_type": "code",
   "execution_count": null,
   "metadata": {
    "ExecuteTime": {
     "start_time": "2020-05-11T01:51:29.056Z"
    }
   },
   "outputs": [],
   "source": [
    "min_arrs = build_params_variations(res);"
   ]
  },
  {
   "cell_type": "code",
   "execution_count": null,
   "metadata": {
    "ExecuteTime": {
     "start_time": "2020-05-11T01:51:29.058Z"
    }
   },
   "outputs": [],
   "source": [
    "possibilities, hr_poss = build_possibilities(min_arrs);"
   ]
  },
  {
   "cell_type": "code",
   "execution_count": null,
   "metadata": {
    "ExecuteTime": {
     "start_time": "2020-05-11T01:51:29.059Z"
    },
    "scrolled": true
   },
   "outputs": [],
   "source": [
    "num_series(possibilities)"
   ]
  },
  {
   "cell_type": "code",
   "execution_count": null,
   "metadata": {
    "ExecuteTime": {
     "start_time": "2020-05-11T01:51:29.062Z"
    },
    "scrolled": true
   },
   "outputs": [],
   "source": [
    "@time series = prob_adjust(model, (a,b) -> 1, res -> likelihood(res, σ=1e5), param_range(possibilities));"
   ]
  },
  {
   "cell_type": "code",
   "execution_count": null,
   "metadata": {
    "ExecuteTime": {
     "start_time": "2020-05-11T01:51:29.063Z"
    }
   },
   "outputs": [],
   "source": [
    "idxs = Random.rand(1:length(series), 2000);\n",
    "idxs = collect(1:1:length(series));"
   ]
  },
  {
   "cell_type": "code",
   "execution_count": null,
   "metadata": {
    "ExecuteTime": {
     "start_time": "2020-05-11T01:51:29.065Z"
    }
   },
   "outputs": [],
   "source": [
    "diagn_samples = (hcat([series[j][1][\"res\"][9,1:24] for j in idxs]...))\n",
    "death_samples = (hcat([series[j][1][\"res\"][10,1:24] for j in idxs]...));"
   ]
  },
  {
   "cell_type": "code",
   "execution_count": null,
   "metadata": {
    "ExecuteTime": {
     "start_time": "2020-05-11T01:51:29.066Z"
    }
   },
   "outputs": [],
   "source": [
    "fig, axs = PyPlot.subplots(ncols=2, figsize=(13,4))\n",
    "datas = [Rio_acc_d,Rio_acc_m]\n",
    "models = [diagn_samples,death_samples]\n",
    "axs[1].set_title(\"Casos diagnosticados, acumulados\")\n",
    "axs[2].set_title(\"Óbitos acumulados\")\n",
    "custom_lines = [ mlines.Line2D([], [], color=\"C0\", label = \"Modelo\"),\n",
    "                 mlines.Line2D([], [], color=\"k\", marker = \"o\", label = \"Dados\")]\n",
    "for (ax,data, model) in zip(axs, datas, models)\n",
    "    graph_py.plot_accum(model, data, real_data = true, label = nothing, ax = ax, blur = 0.07, cor_serie = \"C0\", cor_dados = \"ko-\", legend = false)\n",
    "    ax.legend(handles=custom_lines)\n",
    "end"
   ]
  },
  {
   "cell_type": "code",
   "execution_count": null,
   "metadata": {
    "ExecuteTime": {
     "start_time": "2020-05-11T01:51:29.068Z"
    }
   },
   "outputs": [],
   "source": [
    "fig, axs = PyPlot.subplots(ncols=2, figsize=(13,4))\n",
    "datas = [diagn_Rio,obitos_Rio]\n",
    "models = [diagn_samples,death_samples]\n",
    "axs[1].set_title(\"Casos diagnosticados por dia\")\n",
    "axs[2].set_title(\"Óbitos acumulados por dia\")\n",
    "custom_lines = [ mlines.Line2D([], [], color=\"C0\", label = \"Modelo\"),\n",
    "                 mlines.Line2D([], [], color=\"k\", marker = \"o\", label = \"Dados\")]\n",
    "axs[1].legend(custom_lines)\n",
    "for (ax,data, model) in zip(axs, datas, models)\n",
    "    graph_py.plot_daily(model, data, real_data = true, label = nothing, ax = ax, blur = 0.07, cor_serie = \"C0\", cor_dados = \"ko-\", legend = false)\n",
    "    ax.legend(handles=custom_lines)\n",
    "end"
   ]
  },
  {
   "cell_type": "code",
   "execution_count": null,
   "metadata": {
    "ExecuteTime": {
     "start_time": "2020-05-11T01:51:29.069Z"
    }
   },
   "outputs": [],
   "source": [
    "diagn_samples = (hcat([series[j][1][\"res\"][9,1:end] for j in idxs]...))\n",
    "death_samples = (hcat([series[j][1][\"res\"][10,1:end] for j in idxs]...));"
   ]
  },
  {
   "cell_type": "code",
   "execution_count": null,
   "metadata": {
    "ExecuteTime": {
     "start_time": "2020-05-11T01:51:29.071Z"
    }
   },
   "outputs": [],
   "source": [
    "fig, axs = PyPlot.subplots(ncols=2, figsize=(13,4))\n",
    "datas = [Rio_acc_d,Rio_acc_m]\n",
    "models = [diagn_samples,death_samples]\n",
    "axs[1].set_title(\"Casos diagnosticados, acumulados\")\n",
    "axs[2].set_title(\"Óbitos acumulados\")\n",
    "custom_lines = [ mlines.Line2D([], [], color=\"C0\", label = \"Modelo\")]\n",
    "for (ax,data, model) in zip(axs, datas, models)\n",
    "    graph_py.plot_accum(model, data, real_data = false, label = nothing, ax = ax, blur = 0.07, cor_serie = \"C0\", cor_dados = \"ko-\", legend = false)\n",
    "    ax.legend(handles=custom_lines)\n",
    "end"
   ]
  },
  {
   "cell_type": "code",
   "execution_count": null,
   "metadata": {
    "ExecuteTime": {
     "start_time": "2020-05-11T01:51:29.072Z"
    }
   },
   "outputs": [],
   "source": [
    "fig, axs = PyPlot.subplots(ncols=2, figsize=(13,4))\n",
    "datas = [diagn_Rio,obitos_Rio]\n",
    "models = [diagn_samples,death_samples]\n",
    "axs[1].set_title(\"Casos diagnosticados por dia\")\n",
    "axs[2].set_title(\"Óbitos por dia\")\n",
    "custom_lines = [ mlines.Line2D([], [], color=\"C0\", label = \"Modelo\")]\n",
    "axs[1].legend(custom_lines)\n",
    "for (ax,data, model) in zip(axs, datas, models)\n",
    "    graph_py.plot_daily(model, data, real_data = false, label = nothing, ax = ax, blur = 0.07, cor_serie = \"C0\", cor_dados = \"ko-\", legend = false)\n",
    "    ax.legend(handles=custom_lines)\n",
    "end"
   ]
  },
  {
   "cell_type": "code",
   "execution_count": null,
   "metadata": {
    "ExecuteTime": {
     "start_time": "2020-05-11T01:51:29.074Z"
    }
   },
   "outputs": [],
   "source": [
    "ts = 40:5:70\n",
    "xs, ws = build_series(series, idxs, ts, index = 9);\n",
    "fig, ax = plt.subplots(figsize=(16,8))\n",
    "ax.set_title(\"Série da quantidade de diagnosticados acumuladas\")\n",
    "graph_py.graph_series(xs,ws,ts,ax)"
   ]
  },
  {
   "cell_type": "code",
   "execution_count": null,
   "metadata": {
    "ExecuteTime": {
     "start_time": "2020-05-11T01:51:29.075Z"
    }
   },
   "outputs": [],
   "source": [
    "ts = 40:5:70\n",
    "xs, ws = build_series(series, idxs, ts);\n",
    "fig, ax = plt.subplots(figsize=(16,8))\n",
    "ax.set_title(\"Série da quantidade de mortos acumuladas\")\n",
    "graph_py.graph_series(xs,ws,ts,ax)"
   ]
  },
  {
   "cell_type": "code",
   "execution_count": null,
   "metadata": {
    "ExecuteTime": {
     "start_time": "2020-05-11T01:51:29.077Z"
    }
   },
   "outputs": [],
   "source": [
    "fig, ax = plt.subplots(figsize=(16,8))\n",
    "ts = 40:5:70\n",
    "xs,ws = build_series_daily(series, idxs, ts, index = 9)\n",
    "ax.set_title(\"Série da quantidade de diagnosticados por dia\")\n",
    "graph_py.graph_series(xs,ws,ts,ax)"
   ]
  },
  {
   "cell_type": "code",
   "execution_count": null,
   "metadata": {
    "ExecuteTime": {
     "start_time": "2020-05-11T01:51:29.078Z"
    }
   },
   "outputs": [],
   "source": [
    "fig, ax = plt.subplots(figsize=(16,8))\n",
    "ts = 40:5:70\n",
    "xs,ws = build_series_daily(series, idxs, ts)\n",
    "ax.set_title(\"Série da quantidade de mortos por dia\")\n",
    "graph_py.graph_series(xs,ws,ts,ax)"
   ]
  },
  {
   "cell_type": "code",
   "execution_count": null,
   "metadata": {
    "ExecuteTime": {
     "start_time": "2020-05-11T01:51:29.080Z"
    }
   },
   "outputs": [],
   "source": [
    "ts = 40:5:70\n",
    "xs = [[Rt(series[j][1][\"res\"],p_opt)[t] for j in idxs] for t in ts]\n",
    "ws = [[series[j][2] for j in idxs] for t in ts];\n",
    "graph_py.graph_rt(xs,ws,ts)"
   ]
  },
  {
   "cell_type": "code",
   "execution_count": null,
   "metadata": {
    "ExecuteTime": {
     "start_time": "2020-05-11T01:51:29.081Z"
    }
   },
   "outputs": [],
   "source": [
    "xs, ws = build_series_parameter(series, \"quarentena\", day = 40, possibilities, hr_poss, samples = \"all\", serie = 10);"
   ]
  },
  {
   "cell_type": "code",
   "execution_count": null,
   "metadata": {
    "ExecuteTime": {
     "start_time": "2020-05-11T01:51:29.083Z"
    }
   },
   "outputs": [],
   "source": [
    "labels_quarentena = [string(Int(floor(x)))*\"%\" for x in hr_poss[\"quarentena\"]];\n",
    "x_label = \"Porcentagem de quarentena\";"
   ]
  },
  {
   "cell_type": "code",
   "execution_count": null,
   "metadata": {
    "ExecuteTime": {
     "start_time": "2020-05-11T01:51:29.087Z"
    },
    "scrolled": false
   },
   "outputs": [],
   "source": [
    "graph_py.graph_deaths(xs,ws,hr_poss[\"quarentena\"],day = 40, labels = labels_quarentena, x_label = x_label, reversed = false)"
   ]
  },
  {
   "cell_type": "code",
   "execution_count": null,
   "metadata": {
    "ExecuteTime": {
     "start_time": "2020-05-11T01:51:29.088Z"
    }
   },
   "outputs": [],
   "source": [
    "xs, ws = build_series_parameter(series, \"quarentena\", day = 50, possibilities, hr_poss, samples = \"all\");"
   ]
  },
  {
   "cell_type": "code",
   "execution_count": null,
   "metadata": {
    "ExecuteTime": {
     "start_time": "2020-05-11T01:51:29.090Z"
    }
   },
   "outputs": [],
   "source": [
    "labels_quarentena = [string(Int(floor(x)))*\"%\" for x in hr_poss[\"quarentena\"]];\n",
    "x_label = \"Porcentagem de quarentena\";"
   ]
  },
  {
   "cell_type": "code",
   "execution_count": null,
   "metadata": {
    "ExecuteTime": {
     "start_time": "2020-05-11T01:51:29.092Z"
    },
    "scrolled": false
   },
   "outputs": [],
   "source": [
    "graph_py.graph_deaths(xs,ws,hr_poss[\"quarentena\"],day = 50, labels = labels_quarentena, x_label = x_label, reversed = false)"
   ]
  },
  {
   "cell_type": "code",
   "execution_count": null,
   "metadata": {
    "ExecuteTime": {
     "start_time": "2020-05-11T01:51:29.093Z"
    }
   },
   "outputs": [],
   "source": [
    "xs, ws = build_series_parameter(series, \"taxa_teste_a\", day = 40, possibilities, hr_poss, samples = \"all\");"
   ]
  },
  {
   "cell_type": "code",
   "execution_count": null,
   "metadata": {
    "ExecuteTime": {
     "start_time": "2020-05-11T01:51:29.095Z"
    }
   },
   "outputs": [],
   "source": [
    "labels_quarentena = [Int(floor(x)) for x in hr_poss[\"taxa_teste_a\"]];\n",
    "x_label = \"Taxa de testagem de assintomáticos (dias)\";"
   ]
  },
  {
   "cell_type": "code",
   "execution_count": null,
   "metadata": {
    "ExecuteTime": {
     "start_time": "2020-05-11T01:51:29.096Z"
    },
    "scrolled": false
   },
   "outputs": [],
   "source": [
    "graph_py.graph_deaths(xs,ws,hr_poss[\"taxa_teste_a\"],day = 40, labels = labels_quarentena, x_label = x_label, reversed = false)"
   ]
  },
  {
   "cell_type": "code",
   "execution_count": null,
   "metadata": {
    "ExecuteTime": {
     "start_time": "2020-05-11T01:51:29.098Z"
    }
   },
   "outputs": [],
   "source": [
    "xs, ws = build_series_parameter(series, \"taxa_teste_a\", day = 50, possibilities, hr_poss, samples = \"all\");"
   ]
  },
  {
   "cell_type": "code",
   "execution_count": null,
   "metadata": {
    "ExecuteTime": {
     "start_time": "2020-05-11T01:51:29.099Z"
    }
   },
   "outputs": [],
   "source": [
    "labels_quarentena = [Int(floor(x)) for x in hr_poss[\"taxa_teste_a\"]];\n",
    "x_label = \"Taxa de testagem de assintomáticos (dias)\";"
   ]
  },
  {
   "cell_type": "code",
   "execution_count": null,
   "metadata": {
    "ExecuteTime": {
     "start_time": "2020-05-11T01:51:29.101Z"
    },
    "scrolled": false
   },
   "outputs": [],
   "source": [
    "graph_py.graph_deaths(xs,ws,hr_poss[\"taxa_teste_a\"],day = 50, labels = labels_quarentena, x_label = x_label, reversed = false)"
   ]
  },
  {
   "cell_type": "code",
   "execution_count": null,
   "metadata": {
    "ExecuteTime": {
     "start_time": "2020-05-11T01:51:29.103Z"
    }
   },
   "outputs": [],
   "source": [
    "xs, ws = build_series_parameter(series, \"taxa_teste_i\", day = 40, possibilities, hr_poss, samples = \"all\");"
   ]
  },
  {
   "cell_type": "code",
   "execution_count": null,
   "metadata": {
    "ExecuteTime": {
     "start_time": "2020-05-11T01:51:29.104Z"
    }
   },
   "outputs": [],
   "source": [
    "labels_quarentena = [Int(floor(x)) for x in hr_poss[\"taxa_teste_i\"]];\n",
    "x_label = \"Taxa de testagem de infectados (dias)\";"
   ]
  },
  {
   "cell_type": "code",
   "execution_count": null,
   "metadata": {
    "ExecuteTime": {
     "start_time": "2020-05-11T01:51:29.106Z"
    },
    "scrolled": false
   },
   "outputs": [],
   "source": [
    "graph_py.graph_deaths(xs,ws,hr_poss[\"taxa_teste_i\"],day = 40, labels = labels_quarentena, x_label = x_label, reversed = false)"
   ]
  },
  {
   "cell_type": "code",
   "execution_count": null,
   "metadata": {
    "ExecuteTime": {
     "start_time": "2020-05-11T01:51:29.108Z"
    }
   },
   "outputs": [],
   "source": [
    "xs, ws = build_series_parameter(series, \"taxa_teste_i\", day = 50, possibilities, hr_poss, samples = \"all\");"
   ]
  },
  {
   "cell_type": "code",
   "execution_count": null,
   "metadata": {
    "ExecuteTime": {
     "start_time": "2020-05-11T01:51:29.110Z"
    }
   },
   "outputs": [],
   "source": [
    "labels_quarentena = [Int(floor(x)) for x in hr_poss[\"taxa_teste_i\"]];\n",
    "x_label = \"Taxa de testagem de infectados (dias)\";"
   ]
  },
  {
   "cell_type": "code",
   "execution_count": null,
   "metadata": {
    "ExecuteTime": {
     "start_time": "2020-05-11T01:51:29.111Z"
    },
    "scrolled": false
   },
   "outputs": [],
   "source": [
    "graph_py.graph_deaths(xs,ws,hr_poss[\"taxa_teste_i\"],day = 50, labels = labels_quarentena, x_label = x_label, reversed = false)"
   ]
  },
  {
   "cell_type": "code",
   "execution_count": null,
   "metadata": {
    "ExecuteTime": {
     "start_time": "2020-05-11T01:51:29.113Z"
    }
   },
   "outputs": [],
   "source": [
    "using Printf"
   ]
  },
  {
   "cell_type": "code",
   "execution_count": null,
   "metadata": {
    "ExecuteTime": {
     "start_time": "2020-05-11T01:51:29.114Z"
    }
   },
   "outputs": [],
   "source": [
    "xs, ws = build_series_parameter(series, \"taxa_contagio\", day = 50, possibilities, hr_poss, samples = \"all\");"
   ]
  },
  {
   "cell_type": "code",
   "execution_count": null,
   "metadata": {
    "ExecuteTime": {
     "start_time": "2020-05-11T01:51:29.116Z"
    }
   },
   "outputs": [],
   "source": [
    "labels_quarentena = [@sprintf \"%1.3f\" x*CI_opt[1] for x in hr_poss[\"taxa_contagio\"]];\n",
    "x_label = \"Taxa de contágio\";"
   ]
  },
  {
   "cell_type": "code",
   "execution_count": null,
   "metadata": {
    "ExecuteTime": {
     "start_time": "2020-05-11T01:51:29.117Z"
    },
    "scrolled": false
   },
   "outputs": [],
   "source": [
    "graph_py.graph_deaths(xs,ws,hr_poss[\"taxa_contagio\"],day = 50, labels = labels_quarentena, x_label = x_label, reversed = false)"
   ]
  },
  {
   "cell_type": "code",
   "execution_count": null,
   "metadata": {
    "ExecuteTime": {
     "start_time": "2020-05-11T01:51:29.119Z"
    }
   },
   "outputs": [],
   "source": [
    "fig, ax = plt.subplots(figsize=(16,8))\n",
    "ts = 40:5:70\n",
    "xs,ws = build_series_subnot_infec(series, idxs, ts)\n",
    "ax.set_title(\"Taxa de subnotificação de infectados\")\n",
    "graph_py.graph_series(xs,ws,ts,ax)"
   ]
  },
  {
   "cell_type": "code",
   "execution_count": null,
   "metadata": {
    "ExecuteTime": {
     "start_time": "2020-05-11T01:51:29.120Z"
    }
   },
   "outputs": [],
   "source": [
    "fig, ax = plt.subplots(figsize=(16,8))\n",
    "ts = 40:5:70\n",
    "xs,ws = build_series_subnot_assint(series, idxs, ts)\n",
    "ax.set_title(\"Taxa de subnotificação de assintomáticos\")\n",
    "graph_py.graph_series(xs,ws,ts,ax)"
   ]
  }
 ],
 "metadata": {
  "kernelspec": {
   "display_name": "Julia 1.3.1",
   "language": "julia",
   "name": "julia-1.3"
  },
  "language_info": {
   "file_extension": ".jl",
   "mimetype": "application/julia",
   "name": "julia",
   "version": "1.3.1"
  },
  "toc": {
   "base_numbering": 1,
   "nav_menu": {},
   "number_sections": true,
   "sideBar": true,
   "skip_h1_title": false,
   "title_cell": "Table of Contents",
   "title_sidebar": "Contents",
   "toc_cell": true,
   "toc_position": {
    "height": "calc(100% - 180px)",
    "left": "10px",
    "top": "150px",
    "width": "240.866px"
   },
   "toc_section_display": true,
   "toc_window_display": false
  }
 },
 "nbformat": 4,
 "nbformat_minor": 2
}
